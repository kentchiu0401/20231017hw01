{
 "cells": [
  {
   "cell_type": "code",
   "execution_count": 11,
   "id": "f84ae825",
   "metadata": {},
   "outputs": [
    {
     "name": "stdout",
     "output_type": "stream",
     "text": [
      "請輸入一個Email地址: fg\n",
      "Email地址無效，請重新輸入。\n",
      "請輸入一個Email地址: cgkyif\n",
      "Email地址無效，請重新輸入。\n",
      "請輸入一個Email地址: 52njk;b\n",
      "Email地址無效，請重新輸入。\n",
      "請輸入一個Email地址: 出\n",
      "Email地址無效，請重新輸入。\n",
      "請輸入一個Email地址: yua@gmail\n",
      "Email地址無效，請重新輸入。\n",
      "請輸入一個Email地址: Yuan@gmail.oc\n",
      "有效的Email地址格式！\n"
     ]
    }
   ],
   "source": [
    "import re\n",
    "\n",
    "email_regex = r'^[a-zA-Z0-9_.+-]+@[a-zA-Z0-9-]+\\.[a-zA-Z0-9-.]+$'\n",
    "\n",
    "while True:\n",
    "    user_input = input(\"請輸入一個Email地址: \")\n",
    "\n",
    "    if re.match(email_regex, user_input):\n",
    "        print(\"有效的Email地址格式！\")\n",
    "        break\n",
    "    else:\n",
    "        print(\"Email地址無效，請重新輸入。\")"
   ]
  },
  {
   "cell_type": "code",
   "execution_count": null,
   "id": "db528b02",
   "metadata": {},
   "outputs": [],
   "source": []
  }
 ],
 "metadata": {
  "kernelspec": {
   "display_name": "Python 3 (ipykernel)",
   "language": "python",
   "name": "python3"
  },
  "language_info": {
   "codemirror_mode": {
    "name": "ipython",
    "version": 3
   },
   "file_extension": ".py",
   "mimetype": "text/x-python",
   "name": "python",
   "nbconvert_exporter": "python",
   "pygments_lexer": "ipython3",
   "version": "3.11.4"
  }
 },
 "nbformat": 4,
 "nbformat_minor": 5
}
