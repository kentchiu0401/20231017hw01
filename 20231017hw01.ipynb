{
 "cells": [
  {
   "cell_type": "code",
   "execution_count": 9,
   "id": "f84ae825",
   "metadata": {},
   "outputs": [
    {
     "name": "stdout",
     "output_type": "stream",
     "text": [
      "請輸入您的Email地址：gsgnrss.@gmail.com\n",
      "有效的Email地址!\n"
     ]
    }
   ],
   "source": [
    "import re\n",
    "\n",
    "def validate_email(email):\n",
    "    pattern = r'^[a-zA-Z0-9._%+-]+@[a-zA-Z0-9.-]+\\.[a-zA-Z]{2,}$'\n",
    "    if re.match(pattern, email):\n",
    "        return True\n",
    "    else:\n",
    "        return False\n",
    "\n",
    "user_email = input(\"請輸入您的Email地址：\")\n",
    "\n",
    "if validate_email(user_email):\n",
    "    print(\"有效的Email地址!\")\n",
    "else:\n",
    "    print(\"Email地址無效,請重新輸入。\")"
   ]
  },
  {
   "cell_type": "code",
   "execution_count": null,
   "id": "db528b02",
   "metadata": {},
   "outputs": [],
   "source": []
  }
 ],
 "metadata": {
  "kernelspec": {
   "display_name": "Python 3 (ipykernel)",
   "language": "python",
   "name": "python3"
  },
  "language_info": {
   "codemirror_mode": {
    "name": "ipython",
    "version": 3
   },
   "file_extension": ".py",
   "mimetype": "text/x-python",
   "name": "python",
   "nbconvert_exporter": "python",
   "pygments_lexer": "ipython3",
   "version": "3.11.4"
  }
 },
 "nbformat": 4,
 "nbformat_minor": 5
}
